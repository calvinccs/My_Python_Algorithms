{
 "cells": [
  {
   "cell_type": "markdown",
   "metadata": {},
   "source": [
    "# Airline On-Time Arrivals Project\n",
    "Use the US Dept. of Transportation on-time arrival data for non-stop domestic flights by major air carriers to predict arrival delays.\n",
    "### Objectives:\n",
    "1) Build a binary classification model for predicting arrival delays\n",
    "2) Build a regression model that predicts the extent of the delay\n",
    "<i>NB: Do not use departure delay as an input feature.</i>\n",
    "## Data\n",
    "Data download from: http://transtats.bts.gov/DL_SelectFields.asp?Table_ID=236&DB_Short_Name=On-Time\n",
    "### Variables:\n",
    "#### Time Period [0:5]\n",
    "'YEAR','QUARTER','MONTH','DAY_OF_MONTH','DAY_OF_WEEK','FL_DATE'\n",
    "#### Airline [6:10]\n",
    "'UNIQUE_CARRIER','AIRLINE_ID','CARRIER','TAIL_NUM','FL_NUM'\n",
    "#### Origin [11:19]\n",
    "'ORIGIN_AIRPORT_ID','ORIGIN_AIRPORT_SEQ_ID','ORIGIN_CITY_MARKET_ID',\n",
    "'ORIGIN','ORIGIN_CITY_NAME','ORIGIN_STATE_ABR','ORIGIN_STATE_FIPS',\n",
    "'ORIGIN_STATE_NM','ORIGIN_WAC'\n",
    "#### Destination [20:28]\n",
    "'DEST_AIRPORT_ID','DEST_AIRPORT_SEQ_ID','DEST_CITY_MARKET_ID','DEST',\n",
    "'DEST_CITY_NAME','DEST_STATE_ABR','DEST_STATE_FIPS','DEST_STATE_NM',\n",
    "'DEST_WAC'\n",
    "#### Departure Performance [29:37]\n",
    "'CRS_DEP_TIME','DEP_TIME','DEP_DELAY','DEP_DELAY_NEW','DEP_DEL15',\n",
    "'DEP_DELAY_GROUP','DEP_TIME_BLK','TAXI_OUT','WHEELS_OFF'\n",
    "#### Arrival Performance [38:46]\n",
    "'WHEELS_ON','TAXI_IN','CRS_ARR_TIME','ARR_TIME','ARR_DELAY',\n",
    "'ARR_DELAY_NEW','ARR_DEL15','ARR_DELAY_GROUP','ARR_TIME_BLK'\n",
    "#### Cancellations and Diversions [47:49]\n",
    "'CANCELLED','CANCELLATION_CODE','DIVERTED'\n",
    "#### Flight Summaries [50:55]\n",
    "'CRS_ELAPSED_TIME','ACTUAL_ELAPSED_TIME','AIR_TIME','FLIGHTS',\n",
    "'DISTANCE','DISTANCE_GROUP'\n",
    "#### Cause of Delay [56:60]\n",
    "'CARRIER_DELAY','WEATHER_DELAY','NAS_DELAY','SECURITY_DELAY',\n",
    "'LATE_AIRCRAFT_DELAY'\n",
    "#### Gate Return Information at Origin Airport [61:63]\n",
    "'FIRST_DEP_TIME','TOTAL_ADD_GTIME','LONGEST_ADD_GTIME'\n",
    "#### Diverted Airport Information [64:83] <i>mostly NaN</i>\n",
    "'DIV_AIRPORT_LANDINGS','DIV_REACHED_DEST','DIV_ACTUAL_ELAPSED_TIME',\n",
    "'DIV_ARR_DELAY','DIV_DISTANCE','DIV1_AIRPORT','DIV1_AIRPORT_ID',\n",
    "'DIV1_AIRPORT_SEQ_ID','DIV1_WHEELS_ON','DIV1_TOTAL_GTIME',\n",
    "'DIV1_LONGEST_GTIME','DIV1_WHEELS_OFF','DIV1_TAIL_NUM','DIV2_AIRPORT',\n",
    "'DIV2_AIRPORT_ID','DIV2_AIRPORT_SEQ_ID','DIV2_WHEELS_ON',\n",
    "'DIV2_TOTAL_GTIME','DIV2_LONGEST_GTIME','DIV2_WHEELS_OFF','DIV2_TAIL_NUM',\n",
    "\n",
    "<i>[84:109] All NaN</i>"
   ]
  },
  {
   "cell_type": "code",
   "execution_count": 98,
   "metadata": {
    "collapsed": true
   },
   "outputs": [],
   "source": [
    "# Import libruaries and set environment\n",
    "%matplotlib inline\n",
    "import matplotlib.pyplot as plt\n",
    "import numpy as np\n",
    "import pandas as pd\n",
    "from sklearn import tree\n",
    "from sklearn.ensemble import RandomForestClassifier"
   ]
  },
  {
   "cell_type": "code",
   "execution_count": 99,
   "metadata": {
    "collapsed": false,
    "scrolled": false
   },
   "outputs": [
    {
     "name": "stderr",
     "output_type": "stream",
     "text": [
      "/home/calvin/anaconda3/lib/python3.4/site-packages/pandas/io/parsers.py:1170: DtypeWarning: Columns (77,84) have mixed types. Specify dtype option on import or set low_memory=False.\n",
      "  data = self._reader.read(nrows)\n"
     ]
    }
   ],
   "source": [
    "# import data\n",
    "#data1 = pd.read_csv('/Volumes/Data/Python Projects/Flight_delay/Data/103642275_T_ONTIME-1_14.csv')\n",
    "data1 = pd.read_csv('/home/calvin/DS_projects/Flight_delay/Data/103642275_T_ONTIME-1_14.csv')"
   ]
  },
  {
   "cell_type": "code",
   "execution_count": 100,
   "metadata": {
    "collapsed": false
   },
   "outputs": [
    {
     "data": {
      "text/html": [
       "<div>\n",
       "<table border=\"1\" class=\"dataframe\">\n",
       "  <thead>\n",
       "    <tr style=\"text-align: right;\">\n",
       "      <th></th>\n",
       "      <th>YEAR</th>\n",
       "      <th>QUARTER</th>\n",
       "      <th>MONTH</th>\n",
       "      <th>DAY_OF_MONTH</th>\n",
       "      <th>DAY_OF_WEEK</th>\n",
       "      <th>FL_DATE</th>\n",
       "      <th>UNIQUE_CARRIER</th>\n",
       "      <th>AIRLINE_ID</th>\n",
       "      <th>CARRIER</th>\n",
       "      <th>TAIL_NUM</th>\n",
       "      <th>...</th>\n",
       "      <th>LATE_AIRCRAFT_DELAY</th>\n",
       "      <th>Delay_Carrier</th>\n",
       "      <th>Delay_Weather</th>\n",
       "      <th>Delay_NAS</th>\n",
       "      <th>Delay_Security</th>\n",
       "      <th>Delay_LateAircraft</th>\n",
       "      <th>Delay_Any</th>\n",
       "      <th>OA_rating</th>\n",
       "      <th>DA_rating</th>\n",
       "      <th>UC_number</th>\n",
       "    </tr>\n",
       "  </thead>\n",
       "  <tbody>\n",
       "    <tr>\n",
       "      <th>0</th>\n",
       "      <td>2014</td>\n",
       "      <td>1</td>\n",
       "      <td>1</td>\n",
       "      <td>1</td>\n",
       "      <td>3</td>\n",
       "      <td>2014-01-01</td>\n",
       "      <td>AA</td>\n",
       "      <td>19805</td>\n",
       "      <td>AA</td>\n",
       "      <td>N338AA</td>\n",
       "      <td>...</td>\n",
       "      <td>NaN</td>\n",
       "      <td>0</td>\n",
       "      <td>0</td>\n",
       "      <td>0</td>\n",
       "      <td>0</td>\n",
       "      <td>0</td>\n",
       "      <td>0</td>\n",
       "      <td>2.076771</td>\n",
       "      <td>3.346001</td>\n",
       "      <td>7</td>\n",
       "    </tr>\n",
       "    <tr>\n",
       "      <th>1</th>\n",
       "      <td>2014</td>\n",
       "      <td>1</td>\n",
       "      <td>1</td>\n",
       "      <td>2</td>\n",
       "      <td>4</td>\n",
       "      <td>2014-01-02</td>\n",
       "      <td>AA</td>\n",
       "      <td>19805</td>\n",
       "      <td>AA</td>\n",
       "      <td>N338AA</td>\n",
       "      <td>...</td>\n",
       "      <td>NaN</td>\n",
       "      <td>0</td>\n",
       "      <td>0</td>\n",
       "      <td>0</td>\n",
       "      <td>0</td>\n",
       "      <td>0</td>\n",
       "      <td>0</td>\n",
       "      <td>2.076771</td>\n",
       "      <td>3.346001</td>\n",
       "      <td>7</td>\n",
       "    </tr>\n",
       "    <tr>\n",
       "      <th>3</th>\n",
       "      <td>2014</td>\n",
       "      <td>1</td>\n",
       "      <td>1</td>\n",
       "      <td>4</td>\n",
       "      <td>6</td>\n",
       "      <td>2014-01-04</td>\n",
       "      <td>AA</td>\n",
       "      <td>19805</td>\n",
       "      <td>AA</td>\n",
       "      <td>N327AA</td>\n",
       "      <td>...</td>\n",
       "      <td>0</td>\n",
       "      <td>0</td>\n",
       "      <td>1</td>\n",
       "      <td>0</td>\n",
       "      <td>0</td>\n",
       "      <td>0</td>\n",
       "      <td>1</td>\n",
       "      <td>2.076771</td>\n",
       "      <td>3.346001</td>\n",
       "      <td>7</td>\n",
       "    </tr>\n",
       "    <tr>\n",
       "      <th>4</th>\n",
       "      <td>2014</td>\n",
       "      <td>1</td>\n",
       "      <td>1</td>\n",
       "      <td>5</td>\n",
       "      <td>7</td>\n",
       "      <td>2014-01-05</td>\n",
       "      <td>AA</td>\n",
       "      <td>19805</td>\n",
       "      <td>AA</td>\n",
       "      <td>N323AA</td>\n",
       "      <td>...</td>\n",
       "      <td>0</td>\n",
       "      <td>0</td>\n",
       "      <td>1</td>\n",
       "      <td>0</td>\n",
       "      <td>0</td>\n",
       "      <td>0</td>\n",
       "      <td>1</td>\n",
       "      <td>2.076771</td>\n",
       "      <td>3.346001</td>\n",
       "      <td>7</td>\n",
       "    </tr>\n",
       "    <tr>\n",
       "      <th>5</th>\n",
       "      <td>2014</td>\n",
       "      <td>1</td>\n",
       "      <td>1</td>\n",
       "      <td>6</td>\n",
       "      <td>1</td>\n",
       "      <td>2014-01-06</td>\n",
       "      <td>AA</td>\n",
       "      <td>19805</td>\n",
       "      <td>AA</td>\n",
       "      <td>N319AA</td>\n",
       "      <td>...</td>\n",
       "      <td>NaN</td>\n",
       "      <td>0</td>\n",
       "      <td>0</td>\n",
       "      <td>0</td>\n",
       "      <td>0</td>\n",
       "      <td>0</td>\n",
       "      <td>0</td>\n",
       "      <td>2.076771</td>\n",
       "      <td>3.346001</td>\n",
       "      <td>7</td>\n",
       "    </tr>\n",
       "  </tbody>\n",
       "</table>\n",
       "<p>5 rows × 70 columns</p>\n",
       "</div>"
      ],
      "text/plain": [
       "   YEAR  QUARTER  MONTH  DAY_OF_MONTH  DAY_OF_WEEK     FL_DATE UNIQUE_CARRIER  \\\n",
       "0  2014        1      1             1            3  2014-01-01             AA   \n",
       "1  2014        1      1             2            4  2014-01-02             AA   \n",
       "3  2014        1      1             4            6  2014-01-04             AA   \n",
       "4  2014        1      1             5            7  2014-01-05             AA   \n",
       "5  2014        1      1             6            1  2014-01-06             AA   \n",
       "\n",
       "   AIRLINE_ID CARRIER TAIL_NUM    ...      LATE_AIRCRAFT_DELAY  Delay_Carrier  \\\n",
       "0       19805      AA   N338AA    ...                      NaN              0   \n",
       "1       19805      AA   N338AA    ...                      NaN              0   \n",
       "3       19805      AA   N327AA    ...                        0              0   \n",
       "4       19805      AA   N323AA    ...                        0              0   \n",
       "5       19805      AA   N319AA    ...                      NaN              0   \n",
       "\n",
       "   Delay_Weather  Delay_NAS Delay_Security Delay_LateAircraft Delay_Any  \\\n",
       "0              0          0              0                  0         0   \n",
       "1              0          0              0                  0         0   \n",
       "3              1          0              0                  0         1   \n",
       "4              1          0              0                  0         1   \n",
       "5              0          0              0                  0         0   \n",
       "\n",
       "   OA_rating DA_rating  UC_number  \n",
       "0   2.076771  3.346001          7  \n",
       "1   2.076771  3.346001          7  \n",
       "3   2.076771  3.346001          7  \n",
       "4   2.076771  3.346001          7  \n",
       "5   2.076771  3.346001          7  \n",
       "\n",
       "[5 rows x 70 columns]"
      ]
     },
     "execution_count": 100,
     "metadata": {},
     "output_type": "execute_result"
    }
   ],
   "source": [
    "df.head()\n",
    "#df.ix[:10,38:46]"
   ]
  },
  {
   "cell_type": "code",
   "execution_count": 101,
   "metadata": {
    "collapsed": false
   },
   "outputs": [
    {
     "data": {
      "text/plain": [
       "(441097, 61)"
      ]
     },
     "execution_count": 101,
     "metadata": {},
     "output_type": "execute_result"
    }
   ],
   "source": [
    "# Make subset and clean data\n",
    "df = data1.ix[:,:61]\n",
    "\n",
    "# Remove the flights that are cancel\n",
    "df = df[df.CANCELLED != 1]\n",
    "df.shape"
   ]
  },
  {
   "cell_type": "code",
   "execution_count": 102,
   "metadata": {
    "collapsed": false
   },
   "outputs": [],
   "source": [
    "# Create new columns for delay types\n",
    "# Delay_Carrier\n",
    "df['Delay_Carrier'] = float('NaN')\n",
    "df.loc[df['CARRIER_DELAY'] > 0, 'Delay_Carrier'] = 1\n",
    "df.loc[df['CARRIER_DELAY'] == 0, 'Delay_Carrier'] = 0\n",
    "df.loc[pd.isnull(df['CARRIER_DELAY']),'Delay_Carrier'] = 0\n",
    "\n",
    "# Delay_Weather\n",
    "df['Delay_Weather'] = float('NaN')\n",
    "df.loc[df['WEATHER_DELAY'] > 0, 'Delay_Weather'] = 1\n",
    "df.loc[df['WEATHER_DELAY'] == 0, 'Delay_Weather'] = 0\n",
    "df.loc[pd.isnull(df['WEATHER_DELAY']),'Delay_Weather'] = 0\n",
    "\n",
    "# Delay_NAS\n",
    "df['Delay_NAS'] = float('NaN')\n",
    "df.loc[df['NAS_DELAY'] > 0, 'Delay_NAS'] = 1\n",
    "df.loc[df['NAS_DELAY'] == 0, 'Delay_NAS'] = 0\n",
    "df.loc[pd.isnull(df['NAS_DELAY']),'Delay_NAS'] = 0\n",
    "\n",
    "# Delay_Security\n",
    "df['Delay_Security'] = float('NaN')\n",
    "df.loc[df['SECURITY_DELAY'] > 0, 'Delay_Security'] = 1\n",
    "df.loc[df['SECURITY_DELAY'] == 0, 'Delay_Security'] = 0\n",
    "df.loc[pd.isnull(df['SECURITY_DELAY']),'Delay_Security'] = 0\n",
    "\n",
    "# Delay_LateAircraft\n",
    "df['Delay_LateAircraft'] = float('NaN')\n",
    "df.loc[df['LATE_AIRCRAFT_DELAY'] > 0, 'Delay_LateAircraft'] = 1\n",
    "df.loc[df['LATE_AIRCRAFT_DELAY'] == 0, 'Delay_LateAircraft'] = 0\n",
    "df.loc[pd.isnull(df['LATE_AIRCRAFT_DELAY']),'Delay_LateAircraft'] = 0\n",
    "\n",
    "# Delay_Any\n",
    "df['Delay_Any'] = float(0)\n",
    "df.loc[df['Delay_Carrier'] == 1, 'Delay_Any'] = 1\n",
    "df.loc[df['Delay_Weather'] == 1, 'Delay_Any'] = 1\n",
    "df.loc[df['Delay_NAS'] == 1, 'Delay_Any'] = 1\n",
    "df.loc[df['Delay_Security'] == 1, 'Delay_Any'] = 1\n",
    "df.loc[df['Delay_LateAircraft'] == 1, 'Delay_Any'] = 1"
   ]
  },
  {
   "cell_type": "code",
   "execution_count": 103,
   "metadata": {
    "collapsed": false
   },
   "outputs": [
    {
     "name": "stdout",
     "output_type": "stream",
     "text": [
      "4    0.201702\n",
      "5    0.186959\n",
      "3    0.160825\n",
      "1    0.117014\n",
      "6    0.116664\n",
      "7    0.113456\n",
      "2    0.103380\n",
      "dtype: float64\n",
      "WN    0.241820\n",
      "EV    0.138432\n",
      "DL    0.120823\n",
      "OO    0.092455\n",
      "MQ    0.081529\n",
      "UA    0.078254\n",
      "AA    0.078179\n",
      "US    0.055753\n",
      "B6    0.053853\n",
      "FL    0.021509\n",
      "F9    0.017501\n",
      "AS    0.010659\n",
      "VX    0.005717\n",
      "HA    0.003517\n",
      "dtype: float64\n",
      "2     0.249062\n",
      "3     0.204952\n",
      "4     0.162108\n",
      "1     0.121498\n",
      "5     0.109597\n",
      "7     0.045586\n",
      "6     0.039610\n",
      "8     0.020284\n",
      "10    0.019709\n",
      "11    0.015201\n",
      "9     0.012392\n",
      "dtype: float64\n",
      "48    0.114606\n",
      "6     0.102880\n",
      "17    0.088171\n",
      "12    0.077937\n",
      "13    0.068212\n",
      "8     0.058911\n",
      "36    0.053794\n",
      "51    0.030460\n",
      "34    0.026576\n",
      "4     0.026435\n",
      "37    0.026418\n",
      "26    0.026185\n",
      "32    0.024668\n",
      "42    0.022301\n",
      "24    0.021468\n",
      "29    0.020659\n",
      "27    0.019034\n",
      "25    0.017876\n",
      "39    0.016959\n",
      "47    0.016276\n",
      "49    0.013759\n",
      "53    0.011584\n",
      "55    0.011084\n",
      "22    0.010334\n",
      "18    0.007684\n",
      "21    0.007300\n",
      "41    0.007250\n",
      "40    0.006450\n",
      "72    0.005717\n",
      "9     0.004700\n",
      "1     0.004684\n",
      "5     0.004592\n",
      "15    0.004475\n",
      "45    0.004309\n",
      "35    0.004184\n",
      "19    0.003834\n",
      "31    0.003550\n",
      "2     0.003150\n",
      "38    0.002750\n",
      "16    0.002142\n",
      "20    0.002108\n",
      "44    0.002092\n",
      "28    0.002083\n",
      "30    0.001917\n",
      "46    0.001800\n",
      "56    0.001558\n",
      "33    0.001433\n",
      "78    0.001050\n",
      "23    0.000917\n",
      "50    0.000775\n",
      "54    0.000508\n",
      "10    0.000342\n",
      "75    0.000058\n",
      "dtype: float64\n",
      "6     0.117223\n",
      "48    0.109772\n",
      "12    0.097330\n",
      "17    0.073187\n",
      "13    0.065120\n",
      "8     0.049344\n",
      "36    0.047536\n",
      "37    0.027260\n",
      "51    0.026851\n",
      "32    0.026035\n",
      "4     0.024660\n",
      "29    0.021759\n",
      "34    0.020909\n",
      "26    0.020276\n",
      "42    0.018868\n",
      "47    0.018701\n",
      "27    0.017384\n",
      "24    0.017259\n",
      "39    0.016751\n",
      "25    0.015284\n",
      "53    0.014834\n",
      "49    0.014242\n",
      "22    0.012092\n",
      "55    0.011567\n",
      "41    0.010167\n",
      "40    0.009367\n",
      "72    0.007625\n",
      "15    0.007609\n",
      "21    0.007500\n",
      "18    0.007425\n",
      "1     0.005792\n",
      "45    0.005759\n",
      "5     0.005575\n",
      "35    0.005375\n",
      "31    0.004942\n",
      "19    0.004309\n",
      "9     0.004034\n",
      "38    0.003659\n",
      "2     0.003442\n",
      "16    0.002933\n",
      "20    0.002817\n",
      "46    0.002667\n",
      "30    0.002517\n",
      "28    0.002392\n",
      "56    0.002233\n",
      "44    0.001975\n",
      "33    0.001658\n",
      "78    0.001283\n",
      "23    0.001000\n",
      "50    0.000742\n",
      "54    0.000550\n",
      "10    0.000350\n",
      "75    0.000058\n",
      "dtype: float64\n"
     ]
    }
   ],
   "source": [
    "# Check which variables have relationship with delay cases\n",
    "print(df['DAY_OF_WEEK'][df['Delay_Any'] == 1].value_counts(normalize = True))\n",
    "print(df['UNIQUE_CARRIER'][df['Delay_Any'] == 1].value_counts(normalize = True))\n",
    "print(df['DISTANCE_GROUP'][df['Delay_Any'] == 1].value_counts(normalize = True))\n",
    "print(df['ORIGIN_STATE_FIPS'][df['Delay_Any'] == 1].value_counts(normalize = True))\n",
    "print(df['DEST_STATE_FIPS'][df['Delay_Any'] == 1].value_counts(normalize = True))\n"
   ]
  },
  {
   "cell_type": "markdown",
   "metadata": {},
   "source": [
    "### Note: These variables have contribution to delay cases, i.e. Thursday have much more delay compare to Tuesday, and some airlines have much more delay than others, e.g. Southwest Airlines (WN)\n",
    "\n",
    "### But in order to add the airlines into the model, we need to convert them into number"
   ]
  },
  {
   "cell_type": "code",
   "execution_count": 104,
   "metadata": {
    "collapsed": false
   },
   "outputs": [],
   "source": [
    "df['UC_number'] = float('NaN')\n",
    "df.loc[df['UNIQUE_CARRIER'] == 'WN', 'UC_number'] = 1\n",
    "df.loc[df['UNIQUE_CARRIER'] == 'EV', 'UC_number'] = 2\n",
    "df.loc[df['UNIQUE_CARRIER'] == 'DL', 'UC_number'] = 3\n",
    "df.loc[df['UNIQUE_CARRIER'] == 'OO', 'UC_number'] = 4\n",
    "df.loc[df['UNIQUE_CARRIER'] == 'MQ', 'UC_number'] = 5\n",
    "df.loc[df['UNIQUE_CARRIER'] == 'UA', 'UC_number'] = 6\n",
    "df.loc[df['UNIQUE_CARRIER'] == 'AA', 'UC_number'] = 7\n",
    "df.loc[df['UNIQUE_CARRIER'] == 'US', 'UC_number'] = 8\n",
    "df.loc[df['UNIQUE_CARRIER'] == 'B6', 'UC_number'] = 9\n",
    "df.loc[df['UNIQUE_CARRIER'] == 'FL', 'UC_number'] = 10\n",
    "df.loc[df['UNIQUE_CARRIER'] == 'F9', 'UC_number'] = 11\n",
    "df.loc[df['UNIQUE_CARRIER'] == 'AS', 'UC_number'] = 12\n",
    "df.loc[df['UNIQUE_CARRIER'] == 'VX', 'UC_number'] = 13\n",
    "df.loc[df['UNIQUE_CARRIER'] == 'HA', 'UC_number'] = 14\n"
   ]
  },
  {
   "cell_type": "markdown",
   "metadata": {},
   "source": [
    "# Classification 1, using Decision Tree"
   ]
  },
  {
   "cell_type": "code",
   "execution_count": 105,
   "metadata": {
    "collapsed": false
   },
   "outputs": [
    {
     "name": "stdout",
     "output_type": "stream",
     "text": [
      "[ 0.17539044  0.22576693  0.13098669  0.24378423  0.2240717 ]\n",
      "0.7463188369\n"
     ]
    }
   ],
   "source": [
    "# Classification 1 - Decision Tree\n",
    "# Create the target and features numpy arrays:\n",
    "target = df['Delay_Any'].values\n",
    "features = df[['DAY_OF_WEEK','UC_number','DISTANCE_GROUP','ORIGIN_STATE_FIPS','DEST_STATE_FIPS']]\n",
    "\n",
    "tree1 = tree.DecisionTreeClassifier()\n",
    "tree1 = tree1.fit(features, target)\n",
    "\n",
    "# features and score\n",
    "print(tree1.feature_importances_)\n",
    "print(tree1.score(features, target))"
   ]
  },
  {
   "cell_type": "markdown",
   "metadata": {},
   "source": [
    "# Classification 2, using Random Forrest"
   ]
  },
  {
   "cell_type": "code",
   "execution_count": 106,
   "metadata": {
    "collapsed": false
   },
   "outputs": [
    {
     "name": "stdout",
     "output_type": "stream",
     "text": [
      "[ 0.19266471  0.18948513  0.12799537  0.24791553  0.24193926]\n",
      "0.746300700299\n"
     ]
    }
   ],
   "source": [
    "# Classification 2 - Random Forest\n",
    "# Create the target and features numpy arrays:\n",
    "# target = df['Delay_Any'].values\n",
    "# features = df[['DAY_OF_WEEK','UC_number','DISTANCE_GROUP','ORIGIN_STATE_FIPS','DEST_STATE_FIPS']]\n",
    "\n",
    "forest1 = RandomForestClassifier(n_estimators = 100, random_state = 1)\n",
    "forest1 = forest1.fit(features, target)\n",
    "# max_depth = 10, min_samples_split=2, \n",
    "# features and score\n",
    "print(forest1.feature_importances_)\n",
    "print(forest1.score(features, target))"
   ]
  },
  {
   "cell_type": "markdown",
   "metadata": {},
   "source": [
    "## Discussion\n",
    "Given the 5 variables: DAY_OF_WEEK, UC_number, DISTANCE_GROUP, ORIGIN_STATE_FIPS and DEST_STATE_FIPS. Both decision tree and random forrest can only achieve score around 0.75, therefore we need more variables into the model\n",
    "\n",
    "## Suggestions\n",
    "Some airport have better performance compare to the others"
   ]
  },
  {
   "cell_type": "code",
   "execution_count": 107,
   "metadata": {
    "collapsed": false
   },
   "outputs": [],
   "source": [
    "# Use the normalize value counts of delay airport to add 2 variables\n",
    "\n",
    "x = df['ORIGIN'][df['Delay_Any'] == 1].value_counts(normalize = True)*100\n",
    "X = pd.DataFrame(x.index, columns = ['O_airport'])\n",
    "X['OA_rating'] = np.array(x)\n",
    "\n",
    "y = df['DEST'][df['Delay_Any'] == 1].value_counts(normalize = True)*100\n",
    "Y = pd.DataFrame(y.index, columns = ['D_airport'])\n",
    "Y['DA_rating'] = np.array(y)"
   ]
  },
  {
   "cell_type": "code",
   "execution_count": 108,
   "metadata": {
    "collapsed": false
   },
   "outputs": [],
   "source": [
    "# Place the new variables back to the dataframe\n",
    "\n",
    "df['OA_rating'] = float(0)\n",
    "for i in range (0,x.size):\n",
    "    df.loc[df['ORIGIN'] == X['O_airport'][i], 'OA_rating'] = X['OA_rating'][i]\n",
    "    \n",
    "df['DA_rating'] = float(0)\n",
    "for i in range (0,y.size):\n",
    "    df.loc[df['DEST'] == Y['D_airport'][i], 'DA_rating'] = Y['DA_rating'][i]"
   ]
  },
  {
   "cell_type": "markdown",
   "metadata": {},
   "source": [
    "# Classification 3, using Decision Tree with extra variables"
   ]
  },
  {
   "cell_type": "code",
   "execution_count": 109,
   "metadata": {
    "collapsed": false
   },
   "outputs": [
    {
     "name": "stdout",
     "output_type": "stream",
     "text": [
      "[ 0.18086572  0.17306055  0.08561972  0.10043     0.10661449  0.182098\n",
      "  0.17131152]\n",
      "0.754101705521\n"
     ]
    }
   ],
   "source": [
    "# Classification 3 - Decision Tree (added airpoint rating)\n",
    "# Create the target and features numpy arrays:\n",
    "target = df['Delay_Any'].values\n",
    "features = df[['DAY_OF_WEEK','UC_number','DISTANCE_GROUP','ORIGIN_STATE_FIPS','DEST_STATE_FIPS','OA_rating','DA_rating']]\n",
    "\n",
    "tree2 = tree.DecisionTreeClassifier()\n",
    "tree2 = tree2.fit(features, target)\n",
    "\n",
    "# features and score\n",
    "print(tree2.feature_importances_)\n",
    "print(tree2.score(features, target))"
   ]
  },
  {
   "cell_type": "markdown",
   "metadata": {},
   "source": [
    "# Classification 4, using Random Forest with extra variables"
   ]
  },
  {
   "cell_type": "code",
   "execution_count": 110,
   "metadata": {
    "collapsed": false
   },
   "outputs": [
    {
     "name": "stdout",
     "output_type": "stream",
     "text": [
      "[ 0.26333757  0.13716277  0.07077295  0.0965661   0.09873981  0.16596968\n",
      "  0.16745111]\n",
      "0.754094904295\n"
     ]
    }
   ],
   "source": [
    "# Classification 4 - Random Forest (added airpoint rating)\n",
    "# Create the target and features numpy arrays:\n",
    "# target = df['Delay_Any'].values\n",
    "features = df[['DAY_OF_WEEK','UC_number','DISTANCE_GROUP','ORIGIN_STATE_FIPS','DEST_STATE_FIPS','OA_rating','DA_rating']]\n",
    "\n",
    "forest2 = RandomForestClassifier(n_estimators = 100, random_state = 1)\n",
    "forest2 = forest2.fit(features, target)\n",
    "# max_depth = 10, min_samples_split=2, \n",
    "# features and score\n",
    "print(forest2.feature_importances_)\n",
    "print(forest2.score(features, target))"
   ]
  },
  {
   "cell_type": "markdown",
   "metadata": {},
   "source": [
    "## Discussion\n",
    "Adding the two extra variables can only improve a little bit\n",
    "\n",
    "## Suggestion\n",
    "It maybe worth to create separate model for each delay class and combine them together"
   ]
  },
  {
   "cell_type": "code",
   "execution_count": 111,
   "metadata": {
    "collapsed": false
   },
   "outputs": [
    {
     "name": "stdout",
     "output_type": "stream",
     "text": [
      "4    0.196094\n",
      "5    0.188762\n",
      "3    0.154613\n",
      "1    0.122976\n",
      "7    0.120801\n",
      "6    0.117466\n",
      "2    0.099289\n",
      "dtype: float64\n",
      "4    0.208301\n",
      "5    0.163411\n",
      "3    0.152644\n",
      "2    0.143180\n",
      "6    0.121646\n",
      "7    0.111314\n",
      "1    0.099505\n",
      "dtype: float64\n",
      "4    0.215437\n",
      "5    0.180562\n",
      "3    0.163202\n",
      "6    0.116352\n",
      "7    0.113800\n",
      "1    0.112736\n",
      "2    0.097912\n",
      "dtype: float64\n",
      "7    0.186495\n",
      "5    0.186495\n",
      "4    0.180064\n",
      "6    0.141479\n",
      "3    0.115756\n",
      "1    0.109325\n",
      "2    0.080386\n",
      "dtype: float64\n",
      "4    0.208108\n",
      "5    0.194681\n",
      "3    0.156699\n",
      "1    0.119250\n",
      "6    0.113830\n",
      "7    0.112579\n",
      "2    0.094853\n",
      "dtype: float64\n",
      "4    0.201702\n",
      "5    0.186959\n",
      "3    0.160825\n",
      "1    0.117014\n",
      "6    0.116664\n",
      "7    0.113456\n",
      "2    0.103380\n",
      "dtype: float64\n"
     ]
    }
   ],
   "source": [
    "print(df['DAY_OF_WEEK'][df['Delay_Carrier'] == 1].value_counts(normalize = True))\n",
    "print(df['DAY_OF_WEEK'][df['Delay_Weather'] == 1].value_counts(normalize = True))\n",
    "print(df['DAY_OF_WEEK'][df['Delay_NAS'] == 1].value_counts(normalize = True))\n",
    "print(df['DAY_OF_WEEK'][df['Delay_Security'] == 1].value_counts(normalize = True))\n",
    "print(df['DAY_OF_WEEK'][df['Delay_LateAircraft'] == 1].value_counts(normalize = True))\n",
    "print(df['DAY_OF_WEEK'][df['Delay_Any'] == 1].value_counts(normalize = True))\n"
   ]
  },
  {
   "cell_type": "code",
   "execution_count": 112,
   "metadata": {
    "collapsed": false
   },
   "outputs": [
    {
     "name": "stdout",
     "output_type": "stream",
     "text": [
      "4    13345\n",
      "5    12846\n",
      "3    10522\n",
      "1     8369\n",
      "7     8221\n",
      "6     7994\n",
      "2     6757\n",
      "dtype: int64\n",
      "4    2399\n",
      "5    1882\n",
      "3    1758\n",
      "2    1649\n",
      "6    1401\n",
      "7    1282\n",
      "1    1146\n",
      "dtype: int64\n",
      "4    13763\n",
      "5    11535\n",
      "3    10426\n",
      "6     7433\n",
      "7     7270\n",
      "1     7202\n",
      "2     6255\n",
      "dtype: int64\n",
      "7    58\n",
      "5    58\n",
      "4    56\n",
      "6    44\n",
      "3    36\n",
      "1    34\n",
      "2    25\n",
      "dtype: int64\n",
      "4    14476\n",
      "5    13542\n",
      "3    10900\n",
      "1     8295\n",
      "6     7918\n",
      "7     7831\n",
      "2     6598\n",
      "dtype: int64\n",
      "4    24203\n",
      "5    22434\n",
      "3    19298\n",
      "1    14041\n",
      "6    13999\n",
      "7    13614\n",
      "2    12405\n",
      "dtype: int64\n"
     ]
    }
   ],
   "source": [
    "print(df['DAY_OF_WEEK'][df['Delay_Carrier'] == 1].value_counts())\n",
    "print(df['DAY_OF_WEEK'][df['Delay_Weather'] == 1].value_counts())\n",
    "print(df['DAY_OF_WEEK'][df['Delay_NAS'] == 1].value_counts())\n",
    "print(df['DAY_OF_WEEK'][df['Delay_Security'] == 1].value_counts())\n",
    "print(df['DAY_OF_WEEK'][df['Delay_LateAircraft'] == 1].value_counts())\n",
    "print(df['DAY_OF_WEEK'][df['Delay_Any'] == 1].value_counts())\n"
   ]
  }
 ],
 "metadata": {
  "kernelspec": {
   "display_name": "Python 3",
   "language": "python",
   "name": "python3"
  },
  "language_info": {
   "codemirror_mode": {
    "name": "ipython",
    "version": 3
   },
   "file_extension": ".py",
   "mimetype": "text/x-python",
   "name": "python",
   "nbconvert_exporter": "python",
   "pygments_lexer": "ipython3",
   "version": "3.4.3"
  }
 },
 "nbformat": 4,
 "nbformat_minor": 0
}
