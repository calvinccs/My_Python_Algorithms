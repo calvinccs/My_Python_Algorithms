{
 "cells": [
  {
   "cell_type": "markdown",
   "metadata": {},
   "source": [
    "# Metisa - Data Science Challenge (Calvin)\n",
    "\n",
    "Data: Anonymous Microsoft Web Data Data Set - http://archive.ics.uci.edu/ml/datasets/Anonymous+Microsoft+Web+Data\n",
    "\n",
    "The data is in an ASCII-based sparse-data format called \"DST\". Each line of the data file starts with a letter which tells the line's type. The three line types of interest are Attribute, Case and Vote. Each Attribute is a website, each Case is a user and each Vote is an Attribute that the user visited. For more details, please read the data description file for the structure of the data set.\n",
    "\n",
    "##Task:\n",
    "1. Assuming we are at a time such that we only have the training data, we want to recommend websites that the users should visit based on their user ID (case ID number). Please construct a recommender system, train it with the training data set and then conduct recommendation for the users given the user ID.\n",
    "2. Please also write the procedure to test your recommender with the test data set. Explain the metrics that you use for the testing.\n",
    "\n",
    "##Please also answer the following questions:\n",
    "1. What are the pros and cons of the recommendation algorithm you have used?\n",
    "2. How did you evaluate your recommender's performance? Why?\n",
    "3. Are you happy with you recommender's results? What could be a suitable baseline to compare your classifier's performance to?\n",
    "\n",
    "##Remarks:\n",
    "1. The challenge does not have 'the one' solution or answer. There are many ways to approach the task. Same holds true for the accompanying questions. Please motivate all the choices you have made.\n",
    "2. We have stated the task with many implicit and explicit requirements. If you cannot comply with any of these requirements, please state this and work around.\n",
    "3. We also value your input on how this challenge can be improved.\n",
    "4. Very important: we want to see how you think. Please write down all your thoughts, however preliminary. We much prefer that you discuss an issue without offering a solution, rather than not mentioning it.\n"
   ]
  },
  {
   "cell_type": "markdown",
   "metadata": {},
   "source": [
    "## Relevant Information:\n",
    "\n",
    "    We created the data by sampling and processing the www.microsoft.com logs.\n",
    "    The data records the use of www.microsoft.com by 38000 anonymous,\n",
    "    randomly-selected users. For each user, the data lists all the areas of\n",
    "    the web site (Vroots) that user visited in a one week timeframe.\n",
    "\n",
    "    Users are identified only by a sequential number, for example, User #14988,\n",
    "    User #14989, etc. The file contains no personally identifiable information.\n",
    "    The 294 Vroots are identified by their title (e.g. \"NetShow for PowerPoint\")\n",
    "    and URL (e.g. \"/stream\"). The data comes from one week in February, 1998.\n",
    "\n",
    "    Dataset format:\n",
    "\t-- The data is in an ASCII-based sparse-data format called \"DST\".\n",
    "           Each line of the data file starts with a letter which tells the line's type.\n",
    "           The three line types of interest are:\n",
    "               -- Attribute lines:\n",
    "\t\t     For example, 'A,1277,1,\"NetShow for PowerPoint\",\"/stream\"'\n",
    "                     Where:\n",
    "                        'A' marks this as an attribute line,\n",
    "                        '1277' is the attribute ID number for an area of the website\n",
    "                                 (called a Vroot),\n",
    "\t                '1' may be ignored,\n",
    "\t\t\t'\"NetShow for PowerPoint\"' is the title of the Vroot,\n",
    "                        '\"/stream\"' is the URL relative to \"http://www.microsoft.com\"\n",
    "                -- Case and Vote Lines:\n",
    "                    For each user, there is a case line followed by zero or more vote lines.\n",
    "                     For example:\n",
    "                           C,\"10164\",10164\n",
    "                           V,1123,1\n",
    "                           V,1009,1\n",
    "                           V,1052,1\n",
    "                      Where:\n",
    "                         'C' marks this as a case line,\n",
    "                          '10164' is the case ID number of a user,\n",
    "                         'V' marks the vote lines for this case,\n",
    "                         '1123', 1009', 1052' are the attributes ID's of Vroots that a\n",
    "                                user visited.\n",
    "                          '1' may be ignored.\n",
    "\n",
    "Number of Instances:\n",
    "      -- Training: 32711\n",
    "      -- Testing:   5000\n",
    "    Each instance represents an anonymous, randomly selected user of the web site.\n",
    "Number of Attributes: 294\n",
    "Attribute Information:\n",
    "   Each attribute is an area (\"vroot\") of the www.microsoft.com web site.\n",
    "   The datasets record which Vroots each user visited in a one-week timeframe\n",
    "   in Feburary 1998.\n",
    "Missing Attribute Values: The data is very sparse, so vroot visits are explicit,\n",
    "    nonvisits are implicit (missing).\n",
    "Class Distribution: \n",
    "    Mean number of vroot visits per case: 3.0"
   ]
  },
  {
   "cell_type": "code",
   "execution_count": 1,
   "metadata": {
    "collapsed": true
   },
   "outputs": [],
   "source": [
    "import numpy as np\n",
    "import pandas as pd"
   ]
  },
  {
   "cell_type": "code",
   "execution_count": 2,
   "metadata": {
    "collapsed": false
   },
   "outputs": [
    {
     "name": "stderr",
     "output_type": "stream",
     "text": [
      "/Users/calvincheung/anaconda/lib/python3.4/site-packages/IPython/core/interactiveshell.py:2902: DtypeWarning: Columns (3,4) have mixed types. Specify dtype option on import or set low_memory=False.\n",
      "  interactivity=interactivity, compiler=compiler, result=result)\n"
     ]
    }
   ],
   "source": [
    "data = pd.read_table('anonymous-msweb.data', skiprows = 7, sep = ',', header = None, names = ['Attribute', 'ID', 'Ig', 'Vroot', 'URL'])"
   ]
  },
  {
   "cell_type": "markdown",
   "metadata": {},
   "source": [
    "## First, divide the data into two tables: \n",
    "### 1) Attribute table - store all the attribute information\n",
    "### 2) Cases and Votes tables - for extract information from our cases"
   ]
  },
  {
   "cell_type": "code",
   "execution_count": 3,
   "metadata": {
    "collapsed": false
   },
   "outputs": [
    {
     "data": {
      "text/html": [
       "<div>\n",
       "<table border=\"1\" class=\"dataframe\">\n",
       "  <thead>\n",
       "    <tr style=\"text-align: right;\">\n",
       "      <th></th>\n",
       "      <th>Attribute</th>\n",
       "      <th>ID</th>\n",
       "      <th>Ig</th>\n",
       "      <th>Vroot</th>\n",
       "      <th>URL</th>\n",
       "    </tr>\n",
       "  </thead>\n",
       "  <tbody>\n",
       "    <tr>\n",
       "      <th>0</th>\n",
       "      <td>A</td>\n",
       "      <td>1287</td>\n",
       "      <td>1</td>\n",
       "      <td>International AutoRoute</td>\n",
       "      <td>/autoroute</td>\n",
       "    </tr>\n",
       "    <tr>\n",
       "      <th>1</th>\n",
       "      <td>A</td>\n",
       "      <td>1288</td>\n",
       "      <td>1</td>\n",
       "      <td>library</td>\n",
       "      <td>/library</td>\n",
       "    </tr>\n",
       "    <tr>\n",
       "      <th>2</th>\n",
       "      <td>A</td>\n",
       "      <td>1289</td>\n",
       "      <td>1</td>\n",
       "      <td>Master Chef Product Information</td>\n",
       "      <td>/masterchef</td>\n",
       "    </tr>\n",
       "    <tr>\n",
       "      <th>3</th>\n",
       "      <td>A</td>\n",
       "      <td>1297</td>\n",
       "      <td>1</td>\n",
       "      <td>Central America</td>\n",
       "      <td>/centroam</td>\n",
       "    </tr>\n",
       "    <tr>\n",
       "      <th>4</th>\n",
       "      <td>A</td>\n",
       "      <td>1215</td>\n",
       "      <td>1</td>\n",
       "      <td>For Developers Only Info</td>\n",
       "      <td>/developer</td>\n",
       "    </tr>\n",
       "  </tbody>\n",
       "</table>\n",
       "</div>"
      ],
      "text/plain": [
       "  Attribute    ID  Ig                            Vroot          URL\n",
       "0         A  1287   1          International AutoRoute   /autoroute\n",
       "1         A  1288   1                          library     /library\n",
       "2         A  1289   1  Master Chef Product Information  /masterchef\n",
       "3         A  1297   1                  Central America    /centroam\n",
       "4         A  1215   1         For Developers Only Info   /developer"
      ]
     },
     "execution_count": 3,
     "metadata": {},
     "output_type": "execute_result"
    }
   ],
   "source": [
    "# Attribute table\n",
    "dfA = data.ix[0:293,:]\n",
    "dfA.head()"
   ]
  },
  {
   "cell_type": "code",
   "execution_count": 4,
   "metadata": {
    "collapsed": false,
    "scrolled": true
   },
   "outputs": [
    {
     "data": {
      "text/html": [
       "<div>\n",
       "<table border=\"1\" class=\"dataframe\">\n",
       "  <thead>\n",
       "    <tr style=\"text-align: right;\">\n",
       "      <th></th>\n",
       "      <th>index</th>\n",
       "      <th>Attribute</th>\n",
       "      <th>ID</th>\n",
       "      <th>Ig</th>\n",
       "    </tr>\n",
       "  </thead>\n",
       "  <tbody>\n",
       "    <tr>\n",
       "      <th>0</th>\n",
       "      <td>294</td>\n",
       "      <td>C</td>\n",
       "      <td>10001</td>\n",
       "      <td>10001</td>\n",
       "    </tr>\n",
       "    <tr>\n",
       "      <th>1</th>\n",
       "      <td>295</td>\n",
       "      <td>V</td>\n",
       "      <td>1000</td>\n",
       "      <td>1</td>\n",
       "    </tr>\n",
       "    <tr>\n",
       "      <th>2</th>\n",
       "      <td>296</td>\n",
       "      <td>V</td>\n",
       "      <td>1001</td>\n",
       "      <td>1</td>\n",
       "    </tr>\n",
       "    <tr>\n",
       "      <th>3</th>\n",
       "      <td>297</td>\n",
       "      <td>V</td>\n",
       "      <td>1002</td>\n",
       "      <td>1</td>\n",
       "    </tr>\n",
       "    <tr>\n",
       "      <th>4</th>\n",
       "      <td>298</td>\n",
       "      <td>C</td>\n",
       "      <td>10002</td>\n",
       "      <td>10002</td>\n",
       "    </tr>\n",
       "    <tr>\n",
       "      <th>5</th>\n",
       "      <td>299</td>\n",
       "      <td>V</td>\n",
       "      <td>1001</td>\n",
       "      <td>1</td>\n",
       "    </tr>\n",
       "    <tr>\n",
       "      <th>6</th>\n",
       "      <td>300</td>\n",
       "      <td>V</td>\n",
       "      <td>1003</td>\n",
       "      <td>1</td>\n",
       "    </tr>\n",
       "    <tr>\n",
       "      <th>7</th>\n",
       "      <td>301</td>\n",
       "      <td>C</td>\n",
       "      <td>10003</td>\n",
       "      <td>10003</td>\n",
       "    </tr>\n",
       "    <tr>\n",
       "      <th>8</th>\n",
       "      <td>302</td>\n",
       "      <td>V</td>\n",
       "      <td>1001</td>\n",
       "      <td>1</td>\n",
       "    </tr>\n",
       "    <tr>\n",
       "      <th>9</th>\n",
       "      <td>303</td>\n",
       "      <td>V</td>\n",
       "      <td>1003</td>\n",
       "      <td>1</td>\n",
       "    </tr>\n",
       "    <tr>\n",
       "      <th>10</th>\n",
       "      <td>304</td>\n",
       "      <td>V</td>\n",
       "      <td>1004</td>\n",
       "      <td>1</td>\n",
       "    </tr>\n",
       "  </tbody>\n",
       "</table>\n",
       "</div>"
      ],
      "text/plain": [
       "    index Attribute     ID     Ig\n",
       "0     294         C  10001  10001\n",
       "1     295         V   1000      1\n",
       "2     296         V   1001      1\n",
       "3     297         V   1002      1\n",
       "4     298         C  10002  10002\n",
       "5     299         V   1001      1\n",
       "6     300         V   1003      1\n",
       "7     301         C  10003  10003\n",
       "8     302         V   1001      1\n",
       "9     303         V   1003      1\n",
       "10    304         V   1004      1"
      ]
     },
     "execution_count": 4,
     "metadata": {},
     "output_type": "execute_result"
    }
   ],
   "source": [
    "# The Case and Vote data is then store in dfC\n",
    "dfC = data.ix[294:,:3]\n",
    "dfC = dfC.reset_index()\n",
    "dfC.ix[:10,:]"
   ]
  },
  {
   "cell_type": "code",
   "execution_count": 5,
   "metadata": {
    "collapsed": false
   },
   "outputs": [
    {
     "data": {
      "text/plain": [
       "32711"
      ]
     },
     "execution_count": 5,
     "metadata": {},
     "output_type": "execute_result"
    }
   ],
   "source": [
    "# The number of cases\n",
    "dfC.loc[dfC.Attribute == 'C', 'index'].size"
   ]
  },
  {
   "cell_type": "code",
   "execution_count": 6,
   "metadata": {
    "collapsed": false
   },
   "outputs": [
    {
     "data": {
      "text/html": [
       "<div>\n",
       "<table border=\"1\" class=\"dataframe\">\n",
       "  <thead>\n",
       "    <tr style=\"text-align: right;\">\n",
       "      <th></th>\n",
       "      <th>Attribute</th>\n",
       "      <th>ID</th>\n",
       "      <th>Ig</th>\n",
       "      <th>Vroot</th>\n",
       "      <th>URL</th>\n",
       "    </tr>\n",
       "  </thead>\n",
       "  <tbody>\n",
       "    <tr>\n",
       "      <th>78</th>\n",
       "      <td>A</td>\n",
       "      <td>1001</td>\n",
       "      <td>1</td>\n",
       "      <td>Support Desktop</td>\n",
       "      <td>/support</td>\n",
       "    </tr>\n",
       "    <tr>\n",
       "      <th>217</th>\n",
       "      <td>A</td>\n",
       "      <td>1002</td>\n",
       "      <td>1</td>\n",
       "      <td>End User Produced View</td>\n",
       "      <td>/athome</td>\n",
       "    </tr>\n",
       "    <tr>\n",
       "      <th>268</th>\n",
       "      <td>A</td>\n",
       "      <td>1000</td>\n",
       "      <td>1</td>\n",
       "      <td>regwiz</td>\n",
       "      <td>/regwiz</td>\n",
       "    </tr>\n",
       "  </tbody>\n",
       "</table>\n",
       "</div>"
      ],
      "text/plain": [
       "    Attribute    ID  Ig                   Vroot       URL\n",
       "78          A  1001   1         Support Desktop  /support\n",
       "217         A  1002   1  End User Produced View   /athome\n",
       "268         A  1000   1                  regwiz   /regwiz"
      ]
     },
     "execution_count": 6,
     "metadata": {},
     "output_type": "execute_result"
    }
   ],
   "source": [
    "# Show attribute and what they representing\n",
    "dfA[dfA['ID'].isin([1000,1001,1002])]"
   ]
  },
  {
   "cell_type": "markdown",
   "metadata": {},
   "source": [
    "# Recommender strategy:\n",
    "1. Find relationships between Attribute, i.e. in the first case, ID:10001 visit site 1000, then visit 1001 and 1002, so it indicate that there is a relation between Support Desktop, End User Produced View and regwiz.\n",
    "2. Formulate these relations from the case and vote data, then we can use these information to recommend website based on the history of website visited.\n",
    "3. For Vroot that already visited, we remove it from the recommendation list.\n"
   ]
  },
  {
   "cell_type": "code",
   "execution_count": 7,
   "metadata": {
    "collapsed": false
   },
   "outputs": [
    {
     "data": {
      "text/plain": [
       "402738"
      ]
     },
     "execution_count": 7,
     "metadata": {},
     "output_type": "execute_result"
    }
   ],
   "source": [
    "# Extract the relationships from the data\n",
    "relations = []\n",
    "for i in range(0,dfC.ID.size-1):\n",
    "    if dfC.Attribute[i] == 'V':\n",
    "        for a in range(1,50):\n",
    "            if dfC.Attribute[i+a] == 'V':\n",
    "                relations.append([dfC.ID[i],dfC.ID[i+a]])\n",
    "                relations.append([dfC.ID[i+a],dfC.ID[i]])\n",
    "            if dfC.Attribute[i+a] == 'C':\n",
    "                break\n",
    "len(relations)"
   ]
  },
  {
   "cell_type": "code",
   "execution_count": 8,
   "metadata": {
    "collapsed": false,
    "scrolled": true
   },
   "outputs": [
    {
     "data": {
      "text/html": [
       "<div>\n",
       "<table border=\"1\" class=\"dataframe\">\n",
       "  <thead>\n",
       "    <tr style=\"text-align: right;\">\n",
       "      <th></th>\n",
       "      <th>I</th>\n",
       "      <th>R</th>\n",
       "    </tr>\n",
       "  </thead>\n",
       "  <tbody>\n",
       "    <tr>\n",
       "      <th>0</th>\n",
       "      <td>1000</td>\n",
       "      <td>1001</td>\n",
       "    </tr>\n",
       "    <tr>\n",
       "      <th>1</th>\n",
       "      <td>1001</td>\n",
       "      <td>1000</td>\n",
       "    </tr>\n",
       "    <tr>\n",
       "      <th>2</th>\n",
       "      <td>1000</td>\n",
       "      <td>1002</td>\n",
       "    </tr>\n",
       "    <tr>\n",
       "      <th>3</th>\n",
       "      <td>1002</td>\n",
       "      <td>1000</td>\n",
       "    </tr>\n",
       "    <tr>\n",
       "      <th>4</th>\n",
       "      <td>1001</td>\n",
       "      <td>1002</td>\n",
       "    </tr>\n",
       "  </tbody>\n",
       "</table>\n",
       "</div>"
      ],
      "text/plain": [
       "      I     R\n",
       "0  1000  1001\n",
       "1  1001  1000\n",
       "2  1000  1002\n",
       "3  1002  1000\n",
       "4  1001  1002"
      ]
     },
     "execution_count": 8,
     "metadata": {},
     "output_type": "execute_result"
    }
   ],
   "source": [
    "# Put the relations into dataframe which is easier to work with\n",
    "dfR = pd.DataFrame(relations, columns =['I','R'])\n",
    "dfR.head()"
   ]
  },
  {
   "cell_type": "code",
   "execution_count": 9,
   "metadata": {
    "collapsed": false
   },
   "outputs": [
    {
     "data": {
      "text/plain": [
       "1014    373\n",
       "1001    300\n",
       "1018    254\n",
       "1008    243\n",
       "1040    236\n",
       "1017    225\n",
       "1034    216\n",
       "1004    213\n",
       "1003    156\n",
       "1009    130\n",
       "Name: R, dtype: int64"
      ]
     },
     "execution_count": 9,
     "metadata": {},
     "output_type": "execute_result"
    }
   ],
   "source": [
    "# Use value count function, we know which Vroot is most related to the initial Vroot.\n",
    "Recommend = dfR.R[dfR.I == 1000].value_counts()\n",
    "Recommend[:10]\n",
    "\n",
    "# In this case, Vroot 1000 is most related to 1014, 1001 etc. \n",
    "# In other words, if the case visit Vroot 1000 (only), we should recommend 1014, 1001, 1018, 1008 & 1040"
   ]
  },
  {
   "cell_type": "code",
   "execution_count": 10,
   "metadata": {
    "collapsed": false,
    "scrolled": true
   },
   "outputs": [
    {
     "data": {
      "text/plain": [
       "1040    979\n",
       "1008    703\n",
       "1017    649\n",
       "1018    597\n",
       "1034    566\n",
       "1004    565\n",
       "1001    554\n",
       "1014    469\n",
       "1000    459\n",
       "1009    434\n",
       "Name: R, dtype: int64"
      ]
     },
     "execution_count": 10,
     "metadata": {},
     "output_type": "execute_result"
    }
   ],
   "source": [
    "# If the case visit more than 1 Vroot, then the Recommend will add more conditions, i.e. \n",
    "Recommend = dfR.R[(dfR.I == 1000)|(dfR.I == 1014)|(dfR.I == 1036)].value_counts()\n",
    "Recommend[:10]\n",
    "\n",
    "# In this case, the visited Vroots are 1000, 1014 and 1036, \n",
    "# so the next recommendation will be Vroot 1040, 1008, 1017, 1018 & 1034"
   ]
  },
  {
   "cell_type": "code",
   "execution_count": 11,
   "metadata": {
    "collapsed": false
   },
   "outputs": [],
   "source": [
    "# Create a function that when input the case history (the list of Vroot that visited), based on the LAST 5 votes to make recommendation\n",
    "def Rec_Vroot(vote):\n",
    "    if len(vote) == 1:\n",
    "        Recommend = dfR.R[(dfR.I == vote[-1])].value_counts()\n",
    "    if len(vote) == 2:\n",
    "        Recommend = dfR.R[(dfR.I == vote[-1])|(dfR.I == vote[-2])].value_counts()\n",
    "    if len(vote) == 3:\n",
    "        Recommend = dfR.R[(dfR.I == vote[-1])|(dfR.I == vote[-2])|(dfR.I == vote[-3])].value_counts()\n",
    "    if len(vote) == 4:\n",
    "        Recommend = dfR.R[(dfR.I == vote[-1])|(dfR.I == vote[-2])|(dfR.I == vote[-3])|(dfR.I == vote[-4])].value_counts()   \n",
    "    if len(vote) == 5:\n",
    "        Recommend = dfR.R[(dfR.I == vote[-1])|(dfR.I == vote[-2])|(dfR.I == vote[-3])|(dfR.I == vote[-4])|(dfR.I == vote[-5])].value_counts()\n",
    "    if len(vote) > 5:\n",
    "        Recommend = dfR.R[(dfR.I == vote[-1])|(dfR.I == vote[-2])|(dfR.I == vote[-3])|(dfR.I == vote[-4])|(dfR.I == vote[-5])].value_counts()\n",
    "    X = list(Recommend.index[0:100])\n",
    "    for x in range(0,5):\n",
    "        for v in range(0,len(vote)):\n",
    "            if X[x] == vote[v]:\n",
    "                del X[x] # remove Vroot that already exist in history\n",
    "    return X[:5]\n",
    "    "
   ]
  },
  {
   "cell_type": "code",
   "execution_count": 12,
   "metadata": {
    "collapsed": false
   },
   "outputs": [
    {
     "data": {
      "text/plain": [
       "[1018, 1004, 1003, 1008, 1034]"
      ]
     },
     "execution_count": 12,
     "metadata": {},
     "output_type": "execute_result"
    }
   ],
   "source": [
    "# for example, if the case vote history is as follow: 1000,1001,1014,1025,1059,1043,1021,1032,1047\n",
    "# Then the recommendation will be based on the history: 1059,1043,1021,1032,1047 instead of \n",
    "# the history: 1000,1001,1014,1025,1059'\n",
    "clist = [1000,1001,1014,1025,1059,1043,1021,1032,1047]\n",
    "Rec_Vroot(clist[:5])"
   ]
  },
  {
   "cell_type": "code",
   "execution_count": 13,
   "metadata": {
    "collapsed": false
   },
   "outputs": [
    {
     "name": "stdout",
     "output_type": "stream",
     "text": [
      "[1008, 1034, 1001, 1009, 1003]\n",
      "[1008, 1017, 1001, 1034, 1003]\n"
     ]
    }
   ],
   "source": [
    "# E.g. for case #42650, the vote history is 1020,1017,1018,1004,1014,1035,1037,1009,1012,1003,1088,1034,1091,1167\n",
    "clist = [1020,1017,1018,1004,1014,1035,1037,1009,1012,1003,1088,1034,1091,1167]\n",
    "# Let's input the first 5 votes and let's see if the later come up in the result\n",
    "# Test 1\n",
    "print(Rec_Vroot(clist[:5]))\n",
    "# In this case, the prediction 1009 is correct.\n",
    "\n",
    "# Test 2\n",
    "# Now input the first 8 votes (only the last 5 will use)\n",
    "print(Rec_Vroot(clist[:8]))\n",
    "# In this case, the prediction 1034 and 1003 are correct. \n",
    "# Note that 1009 is removed because it is in the prediction already.\n"
   ]
  },
  {
   "cell_type": "markdown",
   "metadata": {},
   "source": [
    "# Procedure to test recommender strategy with the test data set\n",
    "\n",
    "In this algorithm, we will recommend 5 Vroots and we want to know if they will match the case's 'future' record.\n",
    "\n",
    "1) If our recommendation match the case's near future, that should score higher matching the far future.\n",
    "\n",
    "2) If our higher priority recommendation match the case's future, that should score higher than our lower priority cases.\n",
    "\n",
    "Based on the above criteria, the following function is created to measure the success rate of recommendation for a single prediction."
   ]
  },
  {
   "cell_type": "code",
   "execution_count": 14,
   "metadata": {
    "collapsed": false
   },
   "outputs": [],
   "source": [
    "def R_score(prediction, target):\n",
    "    success = []\n",
    "    MPS_list = [1, 1.8, 2.4, 2.8, 3] # maximum score that based on target length\n",
    "    MPS = MPS_list[len(target)-1]\n",
    "    for p in range(0,len(prediction)):\n",
    "        for t in range(0,len(target)):\n",
    "            if prediction[p] == target[t]:\n",
    "                rate = ((5-p) + (5-t))/10\n",
    "                success.append(rate)\n",
    "    score = sum(success)/MPS # the maximum score by this method is 3\n",
    "    return score"
   ]
  },
  {
   "cell_type": "code",
   "execution_count": 15,
   "metadata": {
    "collapsed": false
   },
   "outputs": [
    {
     "data": {
      "text/plain": [
       "0.6"
      ]
     },
     "execution_count": 15,
     "metadata": {},
     "output_type": "execute_result"
    }
   ],
   "source": [
    "A = [1,2,3,4,5]\n",
    "B = [5]\n",
    "R_score(A,B)"
   ]
  },
  {
   "cell_type": "code",
   "execution_count": 16,
   "metadata": {
    "collapsed": false
   },
   "outputs": [
    {
     "name": "stdout",
     "output_type": "stream",
     "text": [
      "0.3\n",
      "0.3666666666666667\n"
     ]
    }
   ],
   "source": [
    "# Test 1\n",
    "prediction = Rec_Vroot(clist[:5])\n",
    "target = clist[6:11]\n",
    "prediction, target\n",
    "print(R_score(prediction, target))\n",
    "\n",
    "# Test 2\n",
    "prediction = Rec_Vroot(clist[:9])\n",
    "target = clist[9:14]\n",
    "prediction, target\n",
    "print(R_score(prediction, target))"
   ]
  },
  {
   "cell_type": "code",
   "execution_count": 17,
   "metadata": {
    "collapsed": false,
    "scrolled": true
   },
   "outputs": [
    {
     "name": "stderr",
     "output_type": "stream",
     "text": [
      "/Users/calvincheung/anaconda/lib/python3.4/site-packages/ipykernel/__main__.py:9: SettingWithCopyWarning: \n",
      "A value is trying to be set on a copy of a slice from a DataFrame\n",
      "\n",
      "See the caveats in the documentation: http://pandas.pydata.org/pandas-docs/stable/indexing.html#indexing-view-versus-copy\n"
     ]
    },
    {
     "data": {
      "text/plain": [
       "(131365, 4001, 2800)"
      ]
     },
     "execution_count": 17,
     "metadata": {},
     "output_type": "execute_result"
    }
   ],
   "source": [
    "# Make a sample to evaluation result\n",
    "dfCase = dfC.loc[dfC.Attribute == 'C'][:4001]\n",
    "\n",
    "Vroot_len = []\n",
    "for i in range(0, dfCase.index.size-1):\n",
    "    Vroot_len.append(dfCase.index[i+1] - dfCase.index[i] - 1)\n",
    "    \n",
    "dfCase['Vroot_len'] = float(0)\n",
    "dfCase['Vroot_len'][:4000] = Vroot_len\n",
    "\n",
    "dfCaseE = dfCase[dfCase.Vroot_len > 1]\n",
    "dfC.index.size, dfCase.index.size, dfCaseE.index.size"
   ]
  },
  {
   "cell_type": "code",
   "execution_count": 18,
   "metadata": {
    "collapsed": false
   },
   "outputs": [
    {
     "data": {
      "text/plain": [
       "4001"
      ]
     },
     "execution_count": 18,
     "metadata": {},
     "output_type": "execute_result"
    }
   ],
   "source": [
    "# Generate a list of Vroot history for testing\n",
    "\n",
    "dfCindex = dfC.loc[dfC.Attribute == 'C']\n",
    "indexC = np.array(dfCindex.index)\n",
    "indexC.size\n",
    "\n",
    "VHist = []\n",
    "Vlist = []\n",
    "for i in range(0,4001):\n",
    "    Cloc = indexC[i]\n",
    "    Vlist.append(dfC.ID[Cloc+1])\n",
    "    for a in range(2,50):\n",
    "        if dfC.Attribute[Cloc+a] == 'V':\n",
    "            Vlist.append(dfC.ID[Cloc+a])\n",
    "        if dfC.Attribute[Cloc+a] == 'C':\n",
    "            VHist.append(Vlist)\n",
    "            Vlist = []\n",
    "            break    \n",
    "len(VHist)                "
   ]
  },
  {
   "cell_type": "code",
   "execution_count": 19,
   "metadata": {
    "collapsed": false,
    "scrolled": true
   },
   "outputs": [
    {
     "data": {
      "text/plain": [
       "2801"
      ]
     },
     "execution_count": 19,
     "metadata": {},
     "output_type": "execute_result"
    }
   ],
   "source": [
    "# Only cases with at least 2 Vroot can perform any types of evaluation\n",
    "LHist = []\n",
    "for l in range(0,4001):\n",
    "    if np.size(VHist[l]) > 1:\n",
    "        LHist.append(VHist[l])\n",
    "np.size(LHist)"
   ]
  },
  {
   "cell_type": "code",
   "execution_count": 20,
   "metadata": {
    "collapsed": false,
    "scrolled": false
   },
   "outputs": [
    {
     "data": {
      "text/plain": [
       "2801"
      ]
     },
     "execution_count": 20,
     "metadata": {},
     "output_type": "execute_result"
    }
   ],
   "source": [
    "Lscore = []\n",
    "Hscore = []\n",
    "for i in range(0,2801):\n",
    "    Clist = LHist[i]\n",
    "    for l in range(1,50): #len(LHist[i])):\n",
    "        target = Clist[l:l+5] #len(Clist)]\n",
    "        if len(target) > 0:\n",
    "            prediction = Rec_Vroot(Clist[:l])    \n",
    "            Lscore.append(R_score(prediction,target))            \n",
    "        if len(target) < 1:\n",
    "            Hscore.append(Lscore)\n",
    "            Lscore = []\n",
    "            break\n",
    "len(Hscore)"
   ]
  },
  {
   "cell_type": "code",
   "execution_count": 21,
   "metadata": {
    "collapsed": false
   },
   "outputs": [
    {
     "data": {
      "text/plain": [
       "[[1000, 1001, 1002],\n",
       " [1001, 1003],\n",
       " [1001, 1003, 1004],\n",
       " [1003, 1004],\n",
       " [1008, 1009],\n",
       " [1010, 1000, 1011, 1012, 1013, 1014],\n",
       " [1015, 1016, 1017, 1018, 1019],\n",
       " [1020, 1021],\n",
       " [1025, 1026],\n",
       " [1027, 1017, 1026, 1028]]"
      ]
     },
     "execution_count": 21,
     "metadata": {},
     "output_type": "execute_result"
    }
   ],
   "source": [
    "# Vroot history for more than 2 entries\n",
    "LHist[:10]"
   ]
  },
  {
   "cell_type": "code",
   "execution_count": 22,
   "metadata": {
    "collapsed": false
   },
   "outputs": [
    {
     "name": "stdout",
     "output_type": "stream",
     "text": [
      "[1014, 1001, 1018, 1008, 1040] [1018, 1003, 1004, 1008, 1017] [1018, 1003, 1004, 1008, 1017] [1001, 1018, 1004, 1008, 1035] [1034, 1009, 1018, 1017, 1004]\n"
     ]
    }
   ],
   "source": [
    "# Prediction based on the first vote of each case\n",
    "print(Rec_Vroot(LHist[0][0:1]),\n",
    "      Rec_Vroot(LHist[1][0:1]),\n",
    "      Rec_Vroot(LHist[2][0:1]),\n",
    "      Rec_Vroot(LHist[3][0:1]),\n",
    "      Rec_Vroot(LHist[4][0:1]))"
   ]
  },
  {
   "cell_type": "code",
   "execution_count": 23,
   "metadata": {
    "collapsed": false
   },
   "outputs": [
    {
     "data": {
      "text/plain": [
       "[[0.5, 0.0],\n",
       " [0.9],\n",
       " [0.888888888888889, 0.9],\n",
       " [0.8],\n",
       " [0.9],\n",
       " [0.0, 0.17857142857142858, 0.25, 0.38888888888888884, 0.8],\n",
       " [0.6428571428571429, 0.6666666666666667, 0.3333333333333333, 0.0],\n",
       " [0.0],\n",
       " [1.0],\n",
       " [0.33333333333333337, 0.0, 0.0]]"
      ]
     },
     "execution_count": 23,
     "metadata": {},
     "output_type": "execute_result"
    }
   ],
   "source": [
    "# Score\n",
    "Hscore[:10]"
   ]
  },
  {
   "cell_type": "code",
   "execution_count": 24,
   "metadata": {
    "collapsed": false
   },
   "outputs": [
    {
     "data": {
      "text/plain": [
       "0.50083157040407666"
      ]
     },
     "execution_count": 24,
     "metadata": {},
     "output_type": "execute_result"
    }
   ],
   "source": [
    "# Overall mean score\n",
    "# Convert list of lists into a single list\n",
    "HscoreA = sum(Hscore, [])\n",
    "np.mean(HscoreA)"
   ]
  },
  {
   "cell_type": "markdown",
   "metadata": {},
   "source": [
    "# Discussion:\n",
    "\n",
    "## What are the pros and cons of the recommendation algorithm you have used?\n",
    "\n",
    "In term of the database that form our recommendation statistics, it is based on the cases records, which consist of 32711 cases. The Pros would be that it is easy to update, e.g. when we have more data we can add them into the database so ideally we know which Vroot is most related to another Vroot. However, it is not tailor-made of each individual and the priority of our recommendation is only based on the public record. Furthermore, the relationship is based on one initial and one relation, but sometimes, a more powerful prediction would be two initials and one relation, this system has not been use in our database.\n",
    "\n",
    "In term of formulating the recommendation, our strategy is based on the rating of the relationship. For example, if 1001 has a strong relationship with 1002, i.e. 1002 will be recommended when everytimes the case visit 1001 as long as it is in the last 5 entry in the history. Surely a weighting system on the history will be useful, i.e. Vroot at the last visit should weight higher than Vroot visit a while ago. \n",
    "    \n",
    "## How did you evaluate your recommender's performance? Why?\n",
    "\n",
    "In this algorithm, we will recommend 5 Vroots and we want to know if they will match the case's 'future' record. If our recommendation match the case's near future, that should score higher matching the far future. If our higher priority recommendation match the case's future, that should score higher than our lower priority cases. Based on this criteria, the score of each prediction will between 0 to 1, i.e. full point (1) will be given when the highest prority recommendation hit the next target. Or cases that we predict more than one future vote, normalise factors is applied.\n",
    "\n",
    "Then, based on 4000 cases, there are 2800 cases with more than one entry, and we based on these cases to evaluate the performance, i.e. based on the past 5 votes (or available votes) to predict the next 5 votes (or available votes). The overall score is the average of every single predictions.\n",
    "  \n",
    "## Are you happy with you recommender's results? What could be a suitable baseline to compare your classifier's performance to?\n",
    "\n",
    "The overall score is around 0.5, which is quite high considering other similar web prediction application such as Expedia (https://www.dataquest.io/blog/kaggle-tutorial/), however, the Expedia is a far more complicate exercise and the scoring system is much tougher, they need to predict the hotel booking but I only need to predict the next Vroot. Furthermore, the testing sample in this exercise is within the trainning set so it may overfit, too.\n"
   ]
  },
  {
   "cell_type": "markdown",
   "metadata": {},
   "source": [
    "# Others\n",
    "    \n",
    "### The challenge does not have 'the one' solution or answer. There are many ways to approach the task. Same holds true for the accompanying questions. Please motivate all the choices you have made.\n",
    "\n",
    "Another approach I am considering is related to the way how Vroot are weighted. When more than one vote in the history, the current method just use a multiple criteria to filter out the highest hits Vroot. But when one of the vote is highly popular (i.e. there are many high hits Vroots), then recommendation based on other vote may undermine. So this maybe the next exercise.\n",
    "\n",
    "### We have stated the task with many implicit and explicit requirements. If you cannot comply with any of these requirements, please state this and work around.\n",
    "\n",
    "Currently, this algorithm is not in the form that can use in application, it will still need a lot of work to make it usable, nevertheless, it has demonstrate the idea and evaluate the performance.\n",
    "\n",
    "### We also value your input on how this challenge can be improved.\n",
    "\n",
    "I think I did learn a lot by doing this exrcise, especially I never did any website recommendation data project works before. As a result, it is rather difficult to understand the problem at the start, such as what is Vroot, attribute etc. It could be better if there is a link to show how the website look like.\n",
    "    \n",
    "### Very important: we want to see how you think. Please write down all your thoughts, however preliminary. We much prefer that you discuss an issue without offering a solution, rather than not mentioning it.\n",
    "\n",
    "I think this exercise is more related developing algorithm and using functions in pandas, but not much in machine learning. I have been thinking of how to apply machine learning to solve this problem, such as group the Vroot into clusters and then the recommendation would be based on which cluster that the past vote belong to. Such as the hits number to other Vroot can formulate a series and plot them in a graph. \n"
   ]
  },
  {
   "cell_type": "code",
   "execution_count": null,
   "metadata": {
    "collapsed": true
   },
   "outputs": [],
   "source": []
  }
 ],
 "metadata": {
  "kernelspec": {
   "display_name": "Python 3",
   "language": "python",
   "name": "python3"
  },
  "language_info": {
   "codemirror_mode": {
    "name": "ipython",
    "version": 3
   },
   "file_extension": ".py",
   "mimetype": "text/x-python",
   "name": "python",
   "nbconvert_exporter": "python",
   "pygments_lexer": "ipython3",
   "version": "3.4.3"
  }
 },
 "nbformat": 4,
 "nbformat_minor": 0
}
