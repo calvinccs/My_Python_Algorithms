{
 "cells": [
  {
   "cell_type": "markdown",
   "metadata": {},
   "source": [
    "1. Reading json file into pandas dataframe!"
   ]
  },
  {
   "cell_type": "code",
   "execution_count": 1,
   "metadata": {
    "collapsed": true
   },
   "outputs": [],
   "source": [
    "import json\n",
    "import pandas as pd"
   ]
  },
  {
   "cell_type": "code",
   "execution_count": 2,
   "metadata": {
    "collapsed": true
   },
   "outputs": [],
   "source": [
    "path = '/Volumes/DATA/open_data/google_location/'\n",
    "filename = 'LocationHistory.json'"
   ]
  },
  {
   "cell_type": "code",
   "execution_count": 3,
   "metadata": {
    "collapsed": false,
    "scrolled": true
   },
   "outputs": [
    {
     "name": "stdout",
     "output_type": "stream",
     "text": [
      "{\r\n",
      "  \"locations\" : [ {\r\n",
      "    \"timestampMs\" : \"1474512408575\",\r\n",
      "    \"latitudeE7\" : 223714716,\r\n",
      "    \"longitudeE7\" : 1139703379,\r\n",
      "    \"accuracy\" : 31\r\n",
      "  }, {\r\n",
      "    \"timestampMs\" : \"1474512014306\",\r\n",
      "    \"latitudeE7\" : 223714716,\r\n",
      "    \"longitudeE7\" : 1139703379,\r\n"
     ]
    }
   ],
   "source": [
    "!head /Volumes/DATA/open_data/google_location/LocationHistory.json"
   ]
  },
  {
   "cell_type": "code",
   "execution_count": 4,
   "metadata": {
    "collapsed": true
   },
   "outputs": [],
   "source": [
    "with open(path + filename) as data_file:    \n",
    "    data = json.load(data_file)"
   ]
  },
  {
   "cell_type": "code",
   "execution_count": 5,
   "metadata": {
    "collapsed": false,
    "scrolled": true
   },
   "outputs": [
    {
     "data": {
      "text/html": [
       "<div>\n",
       "<table border=\"1\" class=\"dataframe\">\n",
       "  <thead>\n",
       "    <tr style=\"text-align: right;\">\n",
       "      <th></th>\n",
       "      <th>accuracy</th>\n",
       "      <th>activitys</th>\n",
       "      <th>altitude</th>\n",
       "      <th>heading</th>\n",
       "      <th>latitudeE7</th>\n",
       "      <th>longitudeE7</th>\n",
       "      <th>timestampMs</th>\n",
       "      <th>velocity</th>\n",
       "    </tr>\n",
       "  </thead>\n",
       "  <tbody>\n",
       "    <tr>\n",
       "      <th>0</th>\n",
       "      <td>31</td>\n",
       "      <td>NaN</td>\n",
       "      <td>NaN</td>\n",
       "      <td>NaN</td>\n",
       "      <td>223714716</td>\n",
       "      <td>1139703379</td>\n",
       "      <td>1474512408575</td>\n",
       "      <td>NaN</td>\n",
       "    </tr>\n",
       "    <tr>\n",
       "      <th>1</th>\n",
       "      <td>31</td>\n",
       "      <td>NaN</td>\n",
       "      <td>NaN</td>\n",
       "      <td>NaN</td>\n",
       "      <td>223714716</td>\n",
       "      <td>1139703379</td>\n",
       "      <td>1474512014306</td>\n",
       "      <td>NaN</td>\n",
       "    </tr>\n",
       "    <tr>\n",
       "      <th>2</th>\n",
       "      <td>70</td>\n",
       "      <td>NaN</td>\n",
       "      <td>NaN</td>\n",
       "      <td>NaN</td>\n",
       "      <td>223714749</td>\n",
       "      <td>1139703997</td>\n",
       "      <td>1474511808669</td>\n",
       "      <td>NaN</td>\n",
       "    </tr>\n",
       "    <tr>\n",
       "      <th>3</th>\n",
       "      <td>70</td>\n",
       "      <td>NaN</td>\n",
       "      <td>NaN</td>\n",
       "      <td>NaN</td>\n",
       "      <td>223714749</td>\n",
       "      <td>1139703997</td>\n",
       "      <td>1474511670671</td>\n",
       "      <td>NaN</td>\n",
       "    </tr>\n",
       "    <tr>\n",
       "      <th>4</th>\n",
       "      <td>38</td>\n",
       "      <td>NaN</td>\n",
       "      <td>NaN</td>\n",
       "      <td>NaN</td>\n",
       "      <td>223714006</td>\n",
       "      <td>1139703519</td>\n",
       "      <td>1474511308566</td>\n",
       "      <td>NaN</td>\n",
       "    </tr>\n",
       "    <tr>\n",
       "      <th>5</th>\n",
       "      <td>67</td>\n",
       "      <td>NaN</td>\n",
       "      <td>NaN</td>\n",
       "      <td>NaN</td>\n",
       "      <td>223715036</td>\n",
       "      <td>1139704213</td>\n",
       "      <td>1474510978529</td>\n",
       "      <td>NaN</td>\n",
       "    </tr>\n",
       "    <tr>\n",
       "      <th>6</th>\n",
       "      <td>67</td>\n",
       "      <td>NaN</td>\n",
       "      <td>NaN</td>\n",
       "      <td>NaN</td>\n",
       "      <td>223715036</td>\n",
       "      <td>1139704213</td>\n",
       "      <td>1474510947894</td>\n",
       "      <td>NaN</td>\n",
       "    </tr>\n",
       "    <tr>\n",
       "      <th>7</th>\n",
       "      <td>27</td>\n",
       "      <td>NaN</td>\n",
       "      <td>NaN</td>\n",
       "      <td>NaN</td>\n",
       "      <td>223716549</td>\n",
       "      <td>1139703972</td>\n",
       "      <td>1474510582613</td>\n",
       "      <td>NaN</td>\n",
       "    </tr>\n",
       "    <tr>\n",
       "      <th>8</th>\n",
       "      <td>27</td>\n",
       "      <td>NaN</td>\n",
       "      <td>NaN</td>\n",
       "      <td>NaN</td>\n",
       "      <td>223716549</td>\n",
       "      <td>1139703972</td>\n",
       "      <td>1474510193591</td>\n",
       "      <td>NaN</td>\n",
       "    </tr>\n",
       "    <tr>\n",
       "      <th>9</th>\n",
       "      <td>104</td>\n",
       "      <td>NaN</td>\n",
       "      <td>NaN</td>\n",
       "      <td>NaN</td>\n",
       "      <td>223716392</td>\n",
       "      <td>1139704223</td>\n",
       "      <td>1474510023043</td>\n",
       "      <td>NaN</td>\n",
       "    </tr>\n",
       "  </tbody>\n",
       "</table>\n",
       "</div>"
      ],
      "text/plain": [
       "   accuracy activitys  altitude  heading  latitudeE7  longitudeE7  \\\n",
       "0        31       NaN       NaN      NaN   223714716   1139703379   \n",
       "1        31       NaN       NaN      NaN   223714716   1139703379   \n",
       "2        70       NaN       NaN      NaN   223714749   1139703997   \n",
       "3        70       NaN       NaN      NaN   223714749   1139703997   \n",
       "4        38       NaN       NaN      NaN   223714006   1139703519   \n",
       "5        67       NaN       NaN      NaN   223715036   1139704213   \n",
       "6        67       NaN       NaN      NaN   223715036   1139704213   \n",
       "7        27       NaN       NaN      NaN   223716549   1139703972   \n",
       "8        27       NaN       NaN      NaN   223716549   1139703972   \n",
       "9       104       NaN       NaN      NaN   223716392   1139704223   \n",
       "\n",
       "     timestampMs  velocity  \n",
       "0  1474512408575       NaN  \n",
       "1  1474512014306       NaN  \n",
       "2  1474511808669       NaN  \n",
       "3  1474511670671       NaN  \n",
       "4  1474511308566       NaN  \n",
       "5  1474510978529       NaN  \n",
       "6  1474510947894       NaN  \n",
       "7  1474510582613       NaN  \n",
       "8  1474510193591       NaN  \n",
       "9  1474510023043       NaN  "
      ]
     },
     "execution_count": 5,
     "metadata": {},
     "output_type": "execute_result"
    }
   ],
   "source": [
    "df = pd.DataFrame(data[u'locations'])\n",
    "df.head(10)"
   ]
  },
  {
   "cell_type": "code",
   "execution_count": 9,
   "metadata": {
    "collapsed": false
   },
   "outputs": [
    {
     "data": {
      "text/plain": [
       "[u'accuracy',\n",
       " u'activitys',\n",
       " u'altitude',\n",
       " u'heading',\n",
       " u'latitudeE7',\n",
       " u'longitudeE7',\n",
       " u'timestampMs',\n",
       " u'velocity']"
      ]
     },
     "execution_count": 9,
     "metadata": {},
     "output_type": "execute_result"
    }
   ],
   "source": [
    "list(df.columns)"
   ]
  },
  {
   "cell_type": "code",
   "execution_count": 12,
   "metadata": {
    "collapsed": true
   },
   "outputs": [],
   "source": [
    "df.columns = ['accuracy','activitys','alt','heading','lat','lon','timestamp','vel']"
   ]
  },
  {
   "cell_type": "code",
   "execution_count": 13,
   "metadata": {
    "collapsed": false
   },
   "outputs": [
    {
     "data": {
      "text/html": [
       "<div>\n",
       "<table border=\"1\" class=\"dataframe\">\n",
       "  <thead>\n",
       "    <tr style=\"text-align: right;\">\n",
       "      <th></th>\n",
       "      <th>accuracy</th>\n",
       "      <th>activitys</th>\n",
       "      <th>alt</th>\n",
       "      <th>heading</th>\n",
       "      <th>lat</th>\n",
       "      <th>lon</th>\n",
       "      <th>timestamp</th>\n",
       "      <th>vel</th>\n",
       "    </tr>\n",
       "  </thead>\n",
       "  <tbody>\n",
       "    <tr>\n",
       "      <th>648674</th>\n",
       "      <td>934</td>\n",
       "      <td>NaN</td>\n",
       "      <td>NaN</td>\n",
       "      <td>NaN</td>\n",
       "      <td>223724582</td>\n",
       "      <td>1139697802</td>\n",
       "      <td>1411574359627</td>\n",
       "      <td>NaN</td>\n",
       "    </tr>\n",
       "    <tr>\n",
       "      <th>787321</th>\n",
       "      <td>3106</td>\n",
       "      <td>NaN</td>\n",
       "      <td>NaN</td>\n",
       "      <td>NaN</td>\n",
       "      <td>224136959</td>\n",
       "      <td>1142081970</td>\n",
       "      <td>1402468054705</td>\n",
       "      <td>NaN</td>\n",
       "    </tr>\n",
       "    <tr>\n",
       "      <th>671821</th>\n",
       "      <td>3106</td>\n",
       "      <td>NaN</td>\n",
       "      <td>NaN</td>\n",
       "      <td>NaN</td>\n",
       "      <td>222907570</td>\n",
       "      <td>1142955160</td>\n",
       "      <td>1409978105877</td>\n",
       "      <td>NaN</td>\n",
       "    </tr>\n",
       "    <tr>\n",
       "      <th>1068974</th>\n",
       "      <td>6</td>\n",
       "      <td>NaN</td>\n",
       "      <td>23.0</td>\n",
       "      <td>235.0</td>\n",
       "      <td>224476410</td>\n",
       "      <td>1140215412</td>\n",
       "      <td>1384598691161</td>\n",
       "      <td>4.0</td>\n",
       "    </tr>\n",
       "    <tr>\n",
       "      <th>224662</th>\n",
       "      <td>1113</td>\n",
       "      <td>NaN</td>\n",
       "      <td>NaN</td>\n",
       "      <td>NaN</td>\n",
       "      <td>224172133</td>\n",
       "      <td>1142064656</td>\n",
       "      <td>1438828439811</td>\n",
       "      <td>NaN</td>\n",
       "    </tr>\n",
       "    <tr>\n",
       "      <th>973440</th>\n",
       "      <td>8</td>\n",
       "      <td>NaN</td>\n",
       "      <td>126.0</td>\n",
       "      <td>265.0</td>\n",
       "      <td>222712466</td>\n",
       "      <td>1141763681</td>\n",
       "      <td>1390622214691</td>\n",
       "      <td>1.0</td>\n",
       "    </tr>\n",
       "    <tr>\n",
       "      <th>724647</th>\n",
       "      <td>57</td>\n",
       "      <td>NaN</td>\n",
       "      <td>NaN</td>\n",
       "      <td>NaN</td>\n",
       "      <td>224161094</td>\n",
       "      <td>1142110405</td>\n",
       "      <td>1406534139354</td>\n",
       "      <td>NaN</td>\n",
       "    </tr>\n",
       "    <tr>\n",
       "      <th>1005471</th>\n",
       "      <td>54</td>\n",
       "      <td>NaN</td>\n",
       "      <td>NaN</td>\n",
       "      <td>NaN</td>\n",
       "      <td>223717554</td>\n",
       "      <td>1139704325</td>\n",
       "      <td>1388597309275</td>\n",
       "      <td>NaN</td>\n",
       "    </tr>\n",
       "    <tr>\n",
       "      <th>79549</th>\n",
       "      <td>1000</td>\n",
       "      <td>[{u'activities': [{u'confidence': 100, u'type'...</td>\n",
       "      <td>NaN</td>\n",
       "      <td>NaN</td>\n",
       "      <td>224170127</td>\n",
       "      <td>1142065422</td>\n",
       "      <td>1454559061731</td>\n",
       "      <td>NaN</td>\n",
       "    </tr>\n",
       "    <tr>\n",
       "      <th>289007</th>\n",
       "      <td>3106</td>\n",
       "      <td>NaN</td>\n",
       "      <td>NaN</td>\n",
       "      <td>NaN</td>\n",
       "      <td>224139910</td>\n",
       "      <td>1142083930</td>\n",
       "      <td>1434606292287</td>\n",
       "      <td>NaN</td>\n",
       "    </tr>\n",
       "  </tbody>\n",
       "</table>\n",
       "</div>"
      ],
      "text/plain": [
       "         accuracy                                          activitys    alt  \\\n",
       "648674        934                                                NaN    NaN   \n",
       "787321       3106                                                NaN    NaN   \n",
       "671821       3106                                                NaN    NaN   \n",
       "1068974         6                                                NaN   23.0   \n",
       "224662       1113                                                NaN    NaN   \n",
       "973440          8                                                NaN  126.0   \n",
       "724647         57                                                NaN    NaN   \n",
       "1005471        54                                                NaN    NaN   \n",
       "79549        1000  [{u'activities': [{u'confidence': 100, u'type'...    NaN   \n",
       "289007       3106                                                NaN    NaN   \n",
       "\n",
       "         heading        lat         lon      timestamp  vel  \n",
       "648674       NaN  223724582  1139697802  1411574359627  NaN  \n",
       "787321       NaN  224136959  1142081970  1402468054705  NaN  \n",
       "671821       NaN  222907570  1142955160  1409978105877  NaN  \n",
       "1068974    235.0  224476410  1140215412  1384598691161  4.0  \n",
       "224662       NaN  224172133  1142064656  1438828439811  NaN  \n",
       "973440     265.0  222712466  1141763681  1390622214691  1.0  \n",
       "724647       NaN  224161094  1142110405  1406534139354  NaN  \n",
       "1005471      NaN  223717554  1139704325  1388597309275  NaN  \n",
       "79549        NaN  224170127  1142065422  1454559061731  NaN  \n",
       "289007       NaN  224139910  1142083930  1434606292287  NaN  "
      ]
     },
     "execution_count": 13,
     "metadata": {},
     "output_type": "execute_result"
    }
   ],
   "source": [
    "df.sample(10)"
   ]
  },
  {
   "cell_type": "code",
   "execution_count": null,
   "metadata": {
    "collapsed": true
   },
   "outputs": [],
   "source": []
  }
 ],
 "metadata": {
  "kernelspec": {
   "display_name": "Python 2",
   "language": "python",
   "name": "python2"
  },
  "language_info": {
   "codemirror_mode": {
    "name": "ipython",
    "version": 2
   },
   "file_extension": ".py",
   "mimetype": "text/x-python",
   "name": "python",
   "nbconvert_exporter": "python",
   "pygments_lexer": "ipython2",
   "version": "2.7.12"
  }
 },
 "nbformat": 4,
 "nbformat_minor": 1
}
